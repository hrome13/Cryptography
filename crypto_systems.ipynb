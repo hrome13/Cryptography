{
 "cells": [
  {
   "cell_type": "markdown",
   "id": "0596c998",
   "metadata": {},
   "source": [
    "### Helpers and Imports"
   ]
  },
  {
   "cell_type": "code",
   "execution_count": 34,
   "id": "bbeca135",
   "metadata": {},
   "outputs": [],
   "source": [
    "import random\n",
    "import sys\n",
    "from typing import Tuple\n",
    "sys.setrecursionlimit(1000000)\n",
    "\n",
    "def is_prime(n, k):\n",
    "    # Miller-Rabin primality test\n",
    "    # https://gist.github.com/Ayrx/5884790\n",
    "    \n",
    "    if n == 2:\n",
    "        return True\n",
    "    if n % 2 == 0:\n",
    "        return False\n",
    "\n",
    "    r, s = 0, n - 1\n",
    "    while s % 2 == 0:\n",
    "        r += 1\n",
    "        s //= 2\n",
    "    for _ in range(k):\n",
    "        a = random.randrange(2, n - 1)\n",
    "        x = pow(a, s, n)\n",
    "        if x == 1 or x == n - 1:\n",
    "            continue\n",
    "        for _ in range(r - 1):\n",
    "            x = pow(x, 2, n)\n",
    "            if x == n - 1:\n",
    "                break\n",
    "        else:\n",
    "            return False\n",
    "    return True\n",
    "\n",
    "\n",
    "def generate_big_prime(size):\n",
    "    k = 40\n",
    "    p = random.randrange(2 ** (size - 1), 2 ** size - 1)\n",
    "    if p % 2 == 0:\n",
    "        p += 1\n",
    "    while not is_prime(p, k):\n",
    "        p += 2\n",
    "    return p\n",
    "\n",
    "\n",
    "def egcd(a: int, b: int) -> Tuple[int, int, int]:\n",
    "    # https://en.wikibooks.org/wiki/Algorithm_Implementation/Mathematics/Extended_Euclidean_algorithm#Recursive_algorithm_2\n",
    "    \"\"\"return (g, x, y) such that a*x + b*y = g = gcd(a, b)\"\"\"\n",
    "    if a == 0:\n",
    "        return (b, 0, 1)\n",
    "    else:\n",
    "        b_div_a, b_mod_a = divmod(b, a)\n",
    "        g, x, y = egcd(b_mod_a, a)\n",
    "        return (g, y - b_div_a * x, x)\n",
    "\n",
    "\n",
    "def modinv(a: int, b: int) -> int:\n",
    "    # https://en.wikibooks.org/wiki/Algorithm_Implementation/Mathematics/Extended_Euclidean_algorithm#Modular_inverse\n",
    "    \"\"\"return x such that (x * a) % b == 1\"\"\"\n",
    "    g, x, _ = egcd(a, b)\n",
    "    if g != 1:\n",
    "        raise Exception('gcd(a, b) != 1')\n",
    "    return x % b"
   ]
  },
  {
   "cell_type": "markdown",
   "id": "d3f383e1",
   "metadata": {},
   "source": [
    "# Pallier Cryptosystem"
   ]
  },
  {
   "cell_type": "markdown",
   "id": "cf6850c3",
   "metadata": {},
   "source": [
    "https://en.wikipedia.org/wiki/Paillier_cryptosystem\n",
    "\n",
    "https://doi.org/10.1007%2F3-540-48910-X_16"
   ]
  },
  {
   "cell_type": "code",
   "execution_count": 46,
   "id": "ea62f4a8",
   "metadata": {},
   "outputs": [],
   "source": [
    "def gen(n):\n",
    "    # 1. Choose two large prime numbers of equal length\n",
    "    length = 30\n",
    "    p = generate_big_prime(length)\n",
    "    q = generate_big_prime(length)\n",
    "\n",
    "    # 2a. Compute n = pq and lambda = lcm(p-1, q-1)    OR\n",
    "    # 2b. Compute n = pq and lambda = phi(n) = (p - 1) * (q - 1)\n",
    "    n = p * q\n",
    "    lambda_ = (p - 1) * (q - 1)\n",
    "    \n",
    "    # 3a. Select random integer g from Z_{n^2}^*    OR\n",
    "    # 3b. Compute g = n + 1\n",
    "    g = n + 1\n",
    "    \n",
    "    # 4a. Ensure n divides the order of g and calculate mu = (L(g^lambda mod n^2))^{-1} mod n    OR\n",
    "    # 4b. Calculate mu = phi(n)^{-1} mod n = lambda^{-1} mod n\n",
    "    mu = modinv(lambda_, n)\n",
    "    \n",
    "    # Set the private key and secret key\n",
    "    pk = (n, g)\n",
    "    sk = (lambda_, mu)\n",
    "    \n",
    "    return pk\n",
    "\n",
    "def enc(pk, m):\n",
    "    n, g = pk\n",
    "    \n",
    "    # 1. Ensure 0 ≤ m < n\n",
    "    assert (0 <= m),\"Message value negative!\"\n",
    "    assert (m < n),\"Message value too large. Must be less than %i.\" %n\n",
    "    \n",
    "    # 2. Select random r where 0 < r < n\n",
    "    r = random.randrange(1,n)\n",
    "    \n",
    "    # 3. Compute ciphertext as: c = g^m * r^n mod n^2\n",
    "    n2 = n**2\n",
    "    c = pow(g, m, n2) * pow(r, n, n2) % n2\n",
    "    \n",
    "    return c\n",
    "\n",
    "def dec(sk, pk, m):\n",
    "    pass"
   ]
  },
  {
   "cell_type": "markdown",
   "id": "55f2e0a3",
   "metadata": {},
   "source": [
    "# PLONK"
   ]
  },
  {
   "cell_type": "markdown",
   "id": "c2396377",
   "metadata": {},
   "source": [
    "https://eprint.iacr.org/2019/953.pdf"
   ]
  },
  {
   "cell_type": "code",
   "execution_count": 2,
   "id": "4c5e370b",
   "metadata": {},
   "outputs": [],
   "source": [
    "def gen(n):\n",
    "    pass\n",
    "\n",
    "def enc(pk, m):\n",
    "    pass\n",
    "\n",
    "def dec(sk, pk, m):\n",
    "    pass"
   ]
  },
  {
   "cell_type": "code",
   "execution_count": null,
   "id": "ff87688f",
   "metadata": {},
   "outputs": [],
   "source": []
  }
 ],
 "metadata": {
  "kernelspec": {
   "display_name": "Python 3 (ipykernel)",
   "language": "python",
   "name": "python3"
  },
  "language_info": {
   "codemirror_mode": {
    "name": "ipython",
    "version": 3
   },
   "file_extension": ".py",
   "mimetype": "text/x-python",
   "name": "python",
   "nbconvert_exporter": "python",
   "pygments_lexer": "ipython3",
   "version": "3.10.6"
  }
 },
 "nbformat": 4,
 "nbformat_minor": 5
}
