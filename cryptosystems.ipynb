{
 "cells": [
  {
   "cell_type": "markdown",
   "id": "f55811b4",
   "metadata": {},
   "source": [
    "### Helpers and Imports"
   ]
  },
  {
   "cell_type": "code",
   "execution_count": 19,
   "id": "4c6b9373",
   "metadata": {},
   "outputs": [],
   "source": [
    "import random\n",
    "import math\n",
    "import sys\n",
    "from typing import Tuple\n",
    "sys.setrecursionlimit(1000000)\n",
    "\n",
    "def is_prime(n, k):\n",
    "    # Miller-Rabin primality test\n",
    "    # https://gist.github.com/Ayrx/5884790\n",
    "    \n",
    "    if n == 2:\n",
    "        return True\n",
    "    if n % 2 == 0:\n",
    "        return False\n",
    "\n",
    "    r, s = 0, n - 1\n",
    "    while s % 2 == 0:\n",
    "        r += 1\n",
    "        s //= 2\n",
    "    for _ in range(k):\n",
    "        a = random.randrange(2, n - 1)\n",
    "        x = pow(a, s, n)\n",
    "        if x == 1 or x == n - 1:\n",
    "            continue\n",
    "        for _ in range(r - 1):\n",
    "            x = pow(x, 2, n)\n",
    "            if x == n - 1:\n",
    "                break\n",
    "        else:\n",
    "            return False\n",
    "    return True\n",
    "\n",
    "\n",
    "def generate_big_prime(size):\n",
    "    k = 40\n",
    "    p = random.randrange(2 ** (size - 1), 2 ** size - 1)\n",
    "    if p % 2 == 0:\n",
    "        p += 1\n",
    "    while not is_prime(p, k):\n",
    "        p += 2\n",
    "    return p\n",
    "\n",
    "\n",
    "def egcd(a: int, b: int) -> Tuple[int, int, int]:\n",
    "    # https://en.wikibooks.org/wiki/Algorithm_Implementation/Mathematics/Extended_Euclidean_algorithm#Recursive_algorithm_2\n",
    "    \"\"\"return (g, x, y) such that a*x + b*y = g = gcd(a, b)\"\"\"\n",
    "    if a == 0:\n",
    "        return (b, 0, 1)\n",
    "    else:\n",
    "        b_div_a, b_mod_a = divmod(b, a)\n",
    "        g, x, y = egcd(b_mod_a, a)\n",
    "        return (g, y - b_div_a * x, x)\n",
    "\n",
    "\n",
    "def modinv(a: int, b: int) -> int:\n",
    "    # https://en.wikibooks.org/wiki/Algorithm_Implementation/Mathematics/Extended_Euclidean_algorithm#Modular_inverse\n",
    "    \"\"\"return x such that (x * a) % b == 1\"\"\"\n",
    "    g, x, _ = egcd(a, b)\n",
    "    if g != 1:\n",
    "        raise Exception('gcd(a, b) != 1')\n",
    "    return x % b\n",
    "\n",
    "\n",
    "def L(x, n):\n",
    "    # L function used in the Pallier cryptosystem\n",
    "    return (x - 1) // n\n",
    "\n",
    "\n",
    "def legendre(a, p):\n",
    "    \"\"\"return the Legendre symbol (a/p)\"\"\"\n",
    "    symbol = pow(a, int((p-1)/2), p)\n",
    "    if symbol == (p - 1):\n",
    "        return -1\n",
    "    else:\n",
    "        return symbol"
   ]
  },
  {
   "cell_type": "markdown",
   "id": "d3f383e1",
   "metadata": {},
   "source": [
    "# Pallier Cryptosystem"
   ]
  },
  {
   "cell_type": "markdown",
   "id": "7f6d93da",
   "metadata": {},
   "source": [
    "[Wikipedia page](https://en.wikipedia.org/wiki/Paillier_cryptosystem)\n",
    "\n",
    "[Original paper](https://doi.org/10.1007%2F3-540-48910-X_16)\n",
    "\n",
    "Security based on the [Decisional Composite Residuosity Assumption](https://en.wikipedia.org/wiki/Decisional_composite_residuosity_assumption).\n",
    "\n",
    "NOTE: Plaintext space is $\\mathbb{Z}_{n}$, ciphertext space is $\\mathbb{Z}_{(pq)^2}^*$"
   ]
  },
  {
   "cell_type": "code",
   "execution_count": 20,
   "id": "ea62f4a8",
   "metadata": {},
   "outputs": [],
   "source": [
    "class Pallier:\n",
    "    def __init__(self, security_param):\n",
    "        self.pk, self.__sk = self.gen(security_param)\n",
    "        \n",
    "        \n",
    "    def gen(self, security_param):\n",
    "        # 1. Choose two large prime numbers of equal length\n",
    "        length = security_param\n",
    "        p = generate_big_prime(length)\n",
    "        q = generate_big_prime(length)\n",
    "\n",
    "        # 2a. Compute n = pq and lambda = lcm(p-1, q-1)    OR\n",
    "        # 2b. Compute n = pq and lambda = phi(n) = (p - 1) * (q - 1)\n",
    "        n = p * q\n",
    "        lambda_ = (p - 1) * (q - 1)\n",
    "\n",
    "        # 3a. Select random integer g from Z_{n^2}^*    OR\n",
    "        # 3b. Compute g = n + 1\n",
    "        g = n + 1\n",
    "\n",
    "        # 4a. Ensure n divides the order of g and calculate mu = (L(g^lambda mod n^2))^{-1} mod n    OR\n",
    "        # 4b. Calculate mu = phi(n)^{-1} mod n = lambda^{-1} mod n\n",
    "        mu = modinv(lambda_, n)\n",
    "\n",
    "        # Set the public key and secret key\n",
    "        pk = (n, g)\n",
    "        sk = (lambda_, mu)\n",
    "\n",
    "        return pk, sk\n",
    "\n",
    "\n",
    "    def enc(self, m):\n",
    "        n, g = self.pk\n",
    "\n",
    "        # 1. Ensure 0 ≤ m < n\n",
    "        assert (0 <= m),\"Message value negative!\"\n",
    "        assert (m < n),\"Message value too large. Must be less than %i.\" %n\n",
    "\n",
    "        # 2. Select random r where 0 < r < n\n",
    "        r = random.randrange(1,n)\n",
    "\n",
    "        # 3. Compute ciphertext as: c = g^m * r^n mod n^2\n",
    "        n2 = n**2\n",
    "        c = pow(g, m, n2) * pow(r, n, n2) % n2\n",
    "\n",
    "        return c\n",
    "\n",
    "\n",
    "    def dec(self, c):\n",
    "        n, g = self.pk\n",
    "        lambda_, mu = self.__sk\n",
    "        m = (L(pow(c, lambda_, n**2), n) * mu) % n\n",
    "        return m"
   ]
  },
  {
   "cell_type": "markdown",
   "id": "eba5da97",
   "metadata": {},
   "source": [
    "Example of Pallier Cryptosystem in use:"
   ]
  },
  {
   "cell_type": "code",
   "execution_count": 21,
   "id": "137280c3",
   "metadata": {},
   "outputs": [
    {
     "name": "stdout",
     "output_type": "stream",
     "text": [
      "Input message = 270360173 \n",
      "\n",
      "Cyphertext = 32414787451058932066246139101328402 \n",
      "\n",
      "Decrypted message = 270360173\n"
     ]
    }
   ],
   "source": [
    "security_param = 30\n",
    "pallier = Pallier(security_param)\n",
    "\n",
    "m = random.randrange(0, 2**security_param)\n",
    "print('Input message =', m, '\\n')\n",
    "\n",
    "c = pallier.enc(m)\n",
    "print('Cyphertext =', c, '\\n')\n",
    "\n",
    "d = pallier.dec(c)\n",
    "print('Decrypted message =', m)"
   ]
  },
  {
   "cell_type": "markdown",
   "id": "55f2e0a3",
   "metadata": {},
   "source": [
    "# Goldwasser-Micali (GM) Cryptosystem"
   ]
  },
  {
   "cell_type": "markdown",
   "id": "c2396377",
   "metadata": {},
   "source": [
    "[Wikipedia page](https://en.wikipedia.org/wiki/Goldwasser%E2%80%93Micali_cryptosystem)\n",
    "\n",
    "[Original paper](https://doi.org/10.1145%2F800070.802212)\n",
    "\n",
    "Security based on the [Quadratic Residuosity Assumption](https://en.wikipedia.org/wiki/Quadratic_residuosity_problem)."
   ]
  },
  {
   "cell_type": "code",
   "execution_count": 22,
   "id": "4c5e370b",
   "metadata": {},
   "outputs": [],
   "source": [
    "class GoldwasserMicali:\n",
    "    def __init__(self, security_param):\n",
    "        self.pk, self.__sk = self.gen(security_param)\n",
    "\n",
    "        \n",
    "    def gen(self, security_param):\n",
    "        # 1. Choose two large prime numbers\n",
    "        length = security_param\n",
    "        p = generate_big_prime(length)\n",
    "        q = generate_big_prime(length)\n",
    "        while p == q:\n",
    "            q = generate_big_prime(length)\n",
    "\n",
    "        # 2. Calculate N = pq\n",
    "        N = p * q\n",
    "\n",
    "        # 3. Find some non-residue x such that the Legendre symbols satisfy (x/p) = (x/q) = -1\n",
    "        #    and hence the Jacobi symbol (x/N) = +1\n",
    "        #    (if N is a Blum integer, x = N - 1 satisfies this)\n",
    "        x = random.randrange(1, N)\n",
    "        while legendre(x, p) != -1 or legendre(x, q) != -1:\n",
    "            x = random.randrange(1, N)\n",
    "\n",
    "        # Set the public key and secret key\n",
    "        pk = (x, N)\n",
    "        sk = (p, q)\n",
    "        return pk, sk\n",
    "\n",
    "    \n",
    "    def enc(self, m):\n",
    "        x, N = self.pk\n",
    "\n",
    "        # 1. Encode m as a string of bits (m_1, ... , m_n)\n",
    "        m = bin(m)[2:]\n",
    "\n",
    "        # 2. For every bit m_i, generate a random y_i in Z_N^*.\n",
    "        #    c_i = (y_i)^2 * x^{m_i} mod N\n",
    "        c = []\n",
    "        for i in m:\n",
    "            m_i = int(i)\n",
    "            y_i = random.randrange(1,N)\n",
    "            while math.gcd(y_i, N) != 1:\n",
    "                y_i = random.randrange(1,N)\n",
    "            c_i = (pow(y_i, 2, N) * pow(x, m_i, N)) % N\n",
    "\n",
    "            # 3. Ciphertext c = (c_1, ... , c_n)\n",
    "            c.append(c_i)\n",
    "\n",
    "        return c\n",
    "\n",
    "    \n",
    "    def dec(self, c):\n",
    "        x, N = self.pk\n",
    "        p, q = self.__sk\n",
    "\n",
    "        # 1. For each i, using the prime factorization (p, q), determine whether the value c_i is a quadratic residue;\n",
    "        #    if so, m_i = 0, otherwise m_i = 1\n",
    "        #    c_i is a quadratic residue iff the c_i is a quadratic residue mod p and mod q\n",
    "        m = ''\n",
    "        for c_i in c:\n",
    "            if legendre(c_i, p) == 1 and legendre(c_i, q) == 1:\n",
    "                m += '0'\n",
    "            else:\n",
    "                m += '1'\n",
    "\n",
    "        return int(m, 2)"
   ]
  },
  {
   "cell_type": "markdown",
   "id": "56a73525",
   "metadata": {},
   "source": [
    "Example of Goldwasser-Micali Cryptosystem in use:"
   ]
  },
  {
   "cell_type": "code",
   "execution_count": 23,
   "id": "5e4e4492",
   "metadata": {},
   "outputs": [
    {
     "name": "stdout",
     "output_type": "stream",
     "text": [
      "Input message = 702013009 \n",
      "\n",
      "Cyphertext = [321846493162661924, 5392853903370064, 108068564622083899, 243419247682091305, 206843479007991337, 34664524131900929, 362463837014328996, 67872283405795306, 419087353573594198, 16622412562652352, 100752032127860787, 492711545250288267, 247154922341247622, 165138454442717315, 369478464675748678, 444199740561826041, 71412100418211084, 501317840741525920, 462520787634569923, 60151138083295745, 15260607489575295, 413162297057556828, 438625626104839363, 539004485767365761, 350764810926685543, 418964511111105788, 214104032466615613, 457646980959372565, 109414849354055991, 227363315880685417] \n",
      "\n",
      "Decrypted message = 702013009\n"
     ]
    }
   ],
   "source": [
    "security_param = 30\n",
    "gm = GoldwasserMicali(security_param)\n",
    "\n",
    "m = random.randrange(0, 2**security_param)\n",
    "print('Input message =', m, '\\n')\n",
    "\n",
    "c = gm.enc(m)\n",
    "print('Cyphertext =', c, '\\n')\n",
    "\n",
    "d = gm.dec(c)\n",
    "print('Decrypted message =', m)"
   ]
  },
  {
   "cell_type": "markdown",
   "id": "94fbd7a6",
   "metadata": {},
   "source": [
    "# Schmidt-Samoa Cryptosystem"
   ]
  },
  {
   "cell_type": "markdown",
   "id": "29990bdc",
   "metadata": {},
   "source": [
    "[Wikipedia page](https://en.wikipedia.org/wiki/Schmidt-Samoa_cryptosystem)\n",
    "\n",
    "[Original paper](https://eprint.iacr.org/2005/278.pdf)\n",
    "\n",
    "Security based on the hardness of [Integer Factorization](https://en.wikipedia.org/wiki/Integer_factorization).\n",
    "\n",
    "NOTE: Plaintext space is $\\mathbb{Z}_{pq}$, ciphertext space is $\\mathbb{Z}_{p^2q}$"
   ]
  },
  {
   "cell_type": "code",
   "execution_count": 24,
   "id": "0c95faf5",
   "metadata": {},
   "outputs": [],
   "source": [
    "class SchmidtSamoa:\n",
    "    def __init__(self, security_param):\n",
    "        self.pk, self.__sk = self.gen(security_param)\n",
    "\n",
    "        \n",
    "    def gen(self, security_param):\n",
    "        # 1. Choose two large distinct prime numbers\n",
    "        length = security_param\n",
    "        p = generate_big_prime(length)\n",
    "        q = generate_big_prime(length)\n",
    "        while p == q:\n",
    "            q = generate_big_prime(length)\n",
    "\n",
    "        # 2. Calculate N = p^2 * q, n = p*q\n",
    "        N = pow(p, 2) * q\n",
    "        n = p * q\n",
    "\n",
    "        # 3. Compute d = N^{-1} mod lcm(p-1, q-1)\n",
    "        mod = math.lcm(p - 1, q - 1)\n",
    "        d = modinv(N, mod)\n",
    "        \n",
    "        # Set the public key and secret key\n",
    "        pk = N\n",
    "        sk = d, n\n",
    "        return pk, sk\n",
    "\n",
    "    \n",
    "    def enc(self, m):\n",
    "        N = self.pk\n",
    "\n",
    "        # Compute ciphertext c = m^N mod N\n",
    "        c = pow(m, N, N)\n",
    "\n",
    "        return c\n",
    "\n",
    "    \n",
    "    def dec(self, c):\n",
    "        N = self.pk\n",
    "        d, n = self.__sk\n",
    "\n",
    "        # Compute plaintext as m = c^d mod pq\n",
    "        m = pow(c, d, n)\n",
    "\n",
    "        return m"
   ]
  },
  {
   "cell_type": "markdown",
   "id": "49178b90",
   "metadata": {},
   "source": [
    "Example of Schmidt-Samoa Cryptosystem in use:"
   ]
  },
  {
   "cell_type": "code",
   "execution_count": 25,
   "id": "257d6305",
   "metadata": {
    "scrolled": true
   },
   "outputs": [
    {
     "name": "stdout",
     "output_type": "stream",
     "text": [
      "Input message = 220431248 \n",
      "\n",
      "Cyphertext = 272492190559308502114189705 \n",
      "\n",
      "Decrypted message = 220431248\n"
     ]
    }
   ],
   "source": [
    "security_param = 30\n",
    "ss = SchmidtSamoa(security_param)\n",
    "\n",
    "m = random.randrange(0, 2**security_param)\n",
    "print('Input message =', m, '\\n')\n",
    "\n",
    "c = ss.enc(m)\n",
    "print('Cyphertext =', c, '\\n')\n",
    "\n",
    "d = ss.dec(c)\n",
    "print('Decrypted message =', m)"
   ]
  }
 ],
 "metadata": {
  "kernelspec": {
   "display_name": "Python 3 (ipykernel)",
   "language": "python",
   "name": "python3"
  },
  "language_info": {
   "codemirror_mode": {
    "name": "ipython",
    "version": 3
   },
   "file_extension": ".py",
   "mimetype": "text/x-python",
   "name": "python",
   "nbconvert_exporter": "python",
   "pygments_lexer": "ipython3",
   "version": "3.10.6"
  }
 },
 "nbformat": 4,
 "nbformat_minor": 5
}
