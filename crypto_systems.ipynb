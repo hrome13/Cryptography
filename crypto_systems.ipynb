{
 "cells": [
  {
   "cell_type": "markdown",
   "id": "d3f383e1",
   "metadata": {},
   "source": [
    "# Pallier Cryptosystem"
   ]
  },
  {
   "cell_type": "code",
   "execution_count": 1,
   "id": "ea62f4a8",
   "metadata": {},
   "outputs": [],
   "source": [
    "def gen(n):\n",
    "    pass\n",
    "\n",
    "def enc(pk, m):\n",
    "    pass\n",
    "\n",
    "def dec(sk, pk, m):\n",
    "    pass"
   ]
  },
  {
   "cell_type": "markdown",
   "id": "55f2e0a3",
   "metadata": {},
   "source": [
    "# PLONK"
   ]
  },
  {
   "cell_type": "markdown",
   "id": "c2396377",
   "metadata": {},
   "source": [
    "https://eprint.iacr.org/2019/953.pdf"
   ]
  },
  {
   "cell_type": "code",
   "execution_count": 2,
   "id": "4c5e370b",
   "metadata": {},
   "outputs": [],
   "source": [
    "def gen(n):\n",
    "    pass\n",
    "\n",
    "def enc(pk, m):\n",
    "    pass\n",
    "\n",
    "def dec(sk, pk, m):\n",
    "    pass"
   ]
  },
  {
   "cell_type": "code",
   "execution_count": null,
   "id": "3478cfed",
   "metadata": {},
   "outputs": [],
   "source": []
  }
 ],
 "metadata": {
  "kernelspec": {
   "display_name": "Python 3 (ipykernel)",
   "language": "python",
   "name": "python3"
  },
  "language_info": {
   "codemirror_mode": {
    "name": "ipython",
    "version": 3
   },
   "file_extension": ".py",
   "mimetype": "text/x-python",
   "name": "python",
   "nbconvert_exporter": "python",
   "pygments_lexer": "ipython3",
   "version": "3.10.6"
  }
 },
 "nbformat": 4,
 "nbformat_minor": 5
}
